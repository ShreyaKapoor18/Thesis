{
 "cells": [
  {
   "cell_type": "code",
   "execution_count": 1,
   "metadata": {},
   "outputs": [],
   "source": [
    "import copy\n",
    "from itertools import product\n",
    "from classification_refined import classify\n",
    "from processing import *\n",
    "from readfiles import *\n",
    "from decision import filter_summary\n",
    "from subgraphclass import make_solver_summary\n",
    "from sklearn.model_selection import train_test_split\n",
    "from classification_refined import *\n",
    "import networkx as nx\n",
    "from readfiles import *\n",
    "from metrics import *\n",
    "import numpy as np\n",
    "import networkx as nx\n",
    "import matplotlib.pyplot as plt\n",
    "from sklearn.model_selection import StratifiedKFold\n",
    "from readfiles import corresp_label_file\n",
    "from sklearn.linear_model import LinearRegression, Ridge\n",
    "from sklearn.metrics import r2_score\n",
    "from sklearn.model_selection import GridSearchCV"
   ]
  },
  {
   "cell_type": "code",
   "execution_count": 2,
   "metadata": {},
   "outputs": [],
   "source": [
    "num = 84  # number of nodes in the graph\n",
    "tri = int(num * (num + 1) * 0.5)  # we want only the upper diagonal due to symettry of connections\n",
    "mat = np.triu_indices(84)\n",
    "mews = '/home/skapoor/Thesis/gmwcs-solver'\n"
   ]
  },
  {
   "cell_type": "code",
   "execution_count": 3,
   "metadata": {},
   "outputs": [],
   "source": [
    "target, feature, edge, solver_node_wts = 'NEOFAC_E', 'num_streamlines', 'pearson','const'\n",
    "val, thresh, max_num_nodes, per = -0.01, 0, 10, 1.15\n",
    "choice, classifier, refit_metric, feature_selection = 'random', 'ridge_reg', 'balanced_accuracy', 'baseline'\n",
    "baseline_cases, self_loops = set(), False"
   ]
  },
  {
   "cell_type": "code",
   "execution_count": 4,
   "metadata": {},
   "outputs": [],
   "source": [
    "# note: right now the matrix whole is not scaled, for computing the fscores and correlation coeff it has to be so.\n",
    "y_train, y_test = computed_subjects(), test_subjects()\n",
    "y_train_l, y_test_l = y_train[target], y_test[target]\n",
    "X_train = generate_combined_matrix(tri, list(y_train.index))  # need to check indices till here then convert to numpy array\n",
    "X_test = generate_test_data(tri, y_test.index)\n",
    "X_train_l, X_test_l = edge_filtering(feature, X_train, X_test)\n",
    "\n",
    "X, y = X_train_l.append(X_test_l), y_train_l.append(y_test_l)"
   ]
  },
  {
   "cell_type": "code",
   "execution_count": 5,
   "metadata": {},
   "outputs": [],
   "source": [
    "assert list(X.index) == list(y.index)"
   ]
  },
  {
   "cell_type": "code",
   "execution_count": 6,
   "metadata": {
    "scrolled": false
   },
   "outputs": [
    {
     "name": "stdout",
     "output_type": "stream",
     "text": [
      "StratifiedKFold(n_splits=5, random_state=None, shuffle=True)\n",
      "ridge_reg solver random balanced_accuracy NEOFAC_E num_streamlines pearson const\n"
     ]
    },
    {
     "ename": "KeyboardInterrupt",
     "evalue": "",
     "output_type": "error",
     "traceback": [
      "\u001b[0;31m---------------------------------------------------------------------------\u001b[0m",
      "\u001b[0;31mKeyboardInterrupt\u001b[0m                         Traceback (most recent call last)",
      "\u001b[0;32m<ipython-input-6-11cf685bfd04>\u001b[0m in \u001b[0;36m<module>\u001b[0;34m()\u001b[0m\n\u001b[1;32m     37\u001b[0m                                                         \u001b[0mmax_num_nodes\u001b[0m\u001b[0;34m,\u001b[0m \u001b[0mavg_thresh\u001b[0m\u001b[0;34m,\u001b[0m\u001b[0;34m\u001b[0m\u001b[0;34m\u001b[0m\u001b[0m\n\u001b[1;32m     38\u001b[0m                                                         \u001b[0mnode_wts\u001b[0m\u001b[0;34m=\u001b[0m\u001b[0msolver_node_wts\u001b[0m\u001b[0;34m,\u001b[0m \u001b[0mtarget\u001b[0m\u001b[0;34m=\u001b[0m\u001b[0mtarget\u001b[0m\u001b[0;34m,\u001b[0m\u001b[0;34m\u001b[0m\u001b[0;34m\u001b[0m\u001b[0m\n\u001b[0;32m---> 39\u001b[0;31m                                                    edge=edge,keep_files=keep_files)\n\u001b[0m\u001b[1;32m     40\u001b[0m \u001b[0;34m\u001b[0m\u001b[0m\n\u001b[1;32m     41\u001b[0m         \u001b[0mnodes\u001b[0m\u001b[0;34m.\u001b[0m\u001b[0mappend\u001b[0m\u001b[0;34m(\u001b[0m\u001b[0mlist\u001b[0m\u001b[0;34m(\u001b[0m\u001b[0moutput_graph\u001b[0m\u001b[0;34m.\u001b[0m\u001b[0mnodes\u001b[0m\u001b[0;34m)\u001b[0m\u001b[0;34m)\u001b[0m\u001b[0;34m\u001b[0m\u001b[0;34m\u001b[0m\u001b[0m\n",
      "\u001b[0;32m~/Thesis/graphtools/classification_refined.py\u001b[0m in \u001b[0;36msolver_pub\u001b[0;34m(X_train, X_test, y_train, strls_num, feature, thresh, val, max_num_nodes, avg_thresh, node_wts, target, edge, keep_files)\u001b[0m\n\u001b[1;32m    149\u001b[0m         \u001b[0minput_graph\u001b[0m\u001b[0;34m.\u001b[0m\u001b[0mrun_solver\u001b[0m\u001b[0;34m(\u001b[0m\u001b[0mmews\u001b[0m\u001b[0;34m,\u001b[0m \u001b[0mmax_num_nodes\u001b[0m\u001b[0;34m=\u001b[0m\u001b[0mmax_num_nodes\u001b[0m\u001b[0;34m)\u001b[0m\u001b[0;34m\u001b[0m\u001b[0;34m\u001b[0m\u001b[0m\n\u001b[1;32m    150\u001b[0m     \u001b[0;32melse\u001b[0m\u001b[0;34m:\u001b[0m\u001b[0;34m\u001b[0m\u001b[0;34m\u001b[0m\u001b[0m\n\u001b[0;32m--> 151\u001b[0;31m         \u001b[0minput_graph\u001b[0m\u001b[0;34m.\u001b[0m\u001b[0mread_from_file\u001b[0m\u001b[0;34m(\u001b[0m\u001b[0mmews\u001b[0m\u001b[0;34m,\u001b[0m \u001b[0minput_graph\u001b[0m\u001b[0;34m=\u001b[0m\u001b[0;32mTrue\u001b[0m\u001b[0;34m)\u001b[0m\u001b[0;34m\u001b[0m\u001b[0;34m\u001b[0m\u001b[0m\n\u001b[0m\u001b[1;32m    152\u001b[0m         \u001b[0;32mif\u001b[0m \u001b[0mnode_wts\u001b[0m \u001b[0;34m==\u001b[0m \u001b[0;34m'const'\u001b[0m\u001b[0;34m:\u001b[0m\u001b[0;34m\u001b[0m\u001b[0;34m\u001b[0m\u001b[0m\n\u001b[1;32m    153\u001b[0m             \u001b[0minput_graph\u001b[0m\u001b[0;34m.\u001b[0m\u001b[0mset_node_labels\u001b[0m\u001b[0;34m(\u001b[0m\u001b[0mnode_wts\u001b[0m\u001b[0;34m,\u001b[0m \u001b[0mconst_val\u001b[0m\u001b[0;34m=\u001b[0m\u001b[0mval\u001b[0m\u001b[0;34m)\u001b[0m\u001b[0;34m\u001b[0m\u001b[0;34m\u001b[0m\u001b[0m\n",
      "\u001b[0;32m~/Thesis/graphtools/graphclass.py\u001b[0m in \u001b[0;36mread_from_file\u001b[0;34m(self, mews, input_graph, mat)\u001b[0m\n\u001b[1;32m    204\u001b[0m                         \u001b[0medges_e\u001b[0m\u001b[0;34m.\u001b[0m\u001b[0madd\u001b[0m\u001b[0;34m(\u001b[0m\u001b[0;34m(\u001b[0m\u001b[0mint\u001b[0m\u001b[0;34m(\u001b[0m\u001b[0mexisting_edge\u001b[0m\u001b[0;34m[\u001b[0m\u001b[0;36m0\u001b[0m\u001b[0;34m]\u001b[0m\u001b[0;34m)\u001b[0m\u001b[0;34m-\u001b[0m\u001b[0;36m1\u001b[0m\u001b[0;34m,\u001b[0m \u001b[0mint\u001b[0m\u001b[0;34m(\u001b[0m\u001b[0mexisting_edge\u001b[0m\u001b[0;34m[\u001b[0m\u001b[0;36m1\u001b[0m\u001b[0;34m]\u001b[0m\u001b[0;34m)\u001b[0m\u001b[0;34m-\u001b[0m\u001b[0;36m1\u001b[0m\u001b[0;34m,\u001b[0m \u001b[0mfloat\u001b[0m\u001b[0;34m(\u001b[0m\u001b[0mexisting_edge\u001b[0m\u001b[0;34m[\u001b[0m\u001b[0;36m2\u001b[0m\u001b[0;34m]\u001b[0m\u001b[0;34m)\u001b[0m\u001b[0;34m)\u001b[0m\u001b[0;34m)\u001b[0m\u001b[0;34m\u001b[0m\u001b[0;34m\u001b[0m\u001b[0m\n\u001b[1;32m    205\u001b[0m                         \u001b[0;32mfor\u001b[0m \u001b[0mk\u001b[0m \u001b[0;32min\u001b[0m \u001b[0mrange\u001b[0m\u001b[0;34m(\u001b[0m\u001b[0mlen\u001b[0m\u001b[0;34m(\u001b[0m\u001b[0mmat\u001b[0m\u001b[0;34m[\u001b[0m\u001b[0;36m0\u001b[0m\u001b[0;34m]\u001b[0m\u001b[0;34m)\u001b[0m\u001b[0;34m)\u001b[0m\u001b[0;34m:\u001b[0m\u001b[0;34m\u001b[0m\u001b[0;34m\u001b[0m\u001b[0m\n\u001b[0;32m--> 206\u001b[0;31m                             \u001b[0;32mif\u001b[0m \u001b[0;34m(\u001b[0m\u001b[0mint\u001b[0m\u001b[0;34m(\u001b[0m\u001b[0mexisting_edge\u001b[0m\u001b[0;34m[\u001b[0m\u001b[0;36m0\u001b[0m\u001b[0;34m]\u001b[0m\u001b[0;34m)\u001b[0m\u001b[0;34m-\u001b[0m\u001b[0;36m1\u001b[0m\u001b[0;34m,\u001b[0m \u001b[0mint\u001b[0m\u001b[0;34m(\u001b[0m\u001b[0mexisting_edge\u001b[0m\u001b[0;34m[\u001b[0m\u001b[0;36m1\u001b[0m\u001b[0;34m]\u001b[0m\u001b[0;34m)\u001b[0m\u001b[0;34m-\u001b[0m\u001b[0;36m1\u001b[0m\u001b[0;34m)\u001b[0m \u001b[0;34m==\u001b[0m \u001b[0;34m(\u001b[0m\u001b[0mmat\u001b[0m\u001b[0;34m[\u001b[0m\u001b[0;36m0\u001b[0m\u001b[0;34m]\u001b[0m\u001b[0;34m[\u001b[0m\u001b[0mk\u001b[0m\u001b[0;34m]\u001b[0m\u001b[0;34m,\u001b[0m \u001b[0mmat\u001b[0m\u001b[0;34m[\u001b[0m\u001b[0;36m1\u001b[0m\u001b[0;34m]\u001b[0m\u001b[0;34m[\u001b[0m\u001b[0mk\u001b[0m\u001b[0;34m]\u001b[0m\u001b[0;34m)\u001b[0m\u001b[0;34m:\u001b[0m\u001b[0;34m\u001b[0m\u001b[0;34m\u001b[0m\u001b[0m\n\u001b[0m\u001b[1;32m    207\u001b[0m                                 \u001b[0mfeature_indices\u001b[0m\u001b[0;34m.\u001b[0m\u001b[0mappend\u001b[0m\u001b[0;34m(\u001b[0m\u001b[0mk\u001b[0m\u001b[0;34m)\u001b[0m \u001b[0;31m#if we were writing the node names from 1 onwards how to\u001b[0m\u001b[0;34m\u001b[0m\u001b[0;34m\u001b[0m\u001b[0m\n\u001b[1;32m    208\u001b[0m                                 \u001b[0mself\u001b[0m\u001b[0;34m.\u001b[0m\u001b[0medge_weights\u001b[0m\u001b[0;34m.\u001b[0m\u001b[0mappend\u001b[0m\u001b[0;34m(\u001b[0m\u001b[0;34m(\u001b[0m\u001b[0mfloat\u001b[0m\u001b[0;34m(\u001b[0m\u001b[0mexisting_edge\u001b[0m\u001b[0;34m[\u001b[0m\u001b[0;36m2\u001b[0m\u001b[0;34m]\u001b[0m\u001b[0;34m)\u001b[0m\u001b[0;34m)\u001b[0m\u001b[0;34m)\u001b[0m\u001b[0;34m\u001b[0m\u001b[0;34m\u001b[0m\u001b[0m\n",
      "\u001b[0;31mKeyboardInterrupt\u001b[0m: "
     ]
    }
   ],
   "source": [
    "skf = StratifiedKFold(n_splits=5, shuffle=True)\n",
    "skf.get_n_splits(X, y)\n",
    "\n",
    "print(skf)\n",
    "results_solver = []\n",
    "avg_thresh, self_loops = False, False\n",
    "feature_selection = 'solver'\n",
    "refit_metric = 'balanced_accuracy'\n",
    "nodes = []\n",
    "node_names = []\n",
    "i =0 \n",
    "param_grid = [{'alpha': [0.2,0.4, 0.5, 0.7]}]\n",
    "for train_index, test_index in skf.split(X, y):\n",
    "    i+=1\n",
    "    #print(\"TRAIN:\",len(train_index), train_index, \"TEST:\", len(test_index),test_index)\n",
    "    X_train, X_test = X.iloc[train_index], X.iloc[test_index]\n",
    "    y_train, y_test = y.iloc[train_index], y.iloc[test_index]\n",
    "    case = (classifier, target, choice, edge, feature_selection, feature, per, refit_metric, self_loops)\n",
    "    # the baseline needs self loops command but the solver does not!\n",
    "        # drop the diagonal indices from the columns\n",
    "    strls_num = X_train\n",
    "    if feature_selection == 'solver':\n",
    "        print(classifier, feature_selection, choice, refit_metric, target, feature, edge,\n",
    "              solver_node_wts)\n",
    "        strls_num_l = strls_num.loc[X_train.index, :]\n",
    "        if avg_thresh == True:\n",
    "            strls_num_l = strls_num.mean(axis=0, skipna=True)\n",
    "        else:\n",
    "            # to check if there is atleast one or more streamlines for that particular feature for all subjects\n",
    "            strls_num_l = strls_num_l.all()\n",
    "        if i<4:\n",
    "            keep_files = False\n",
    "        else:\n",
    "            keep_files = True\n",
    "        X_train, X_test, output_graph = solver_pub(X_train, X_test, y_train, \n",
    "                                                   strls_num_l,feature, thresh,val,\n",
    "                                                        max_num_nodes, avg_thresh,\n",
    "                                                        node_wts=solver_node_wts, target=target, \n",
    "                                                   edge=edge,keep_files=keep_files)\n",
    "        \n",
    "        nodes.append(list(output_graph.nodes))\n",
    "        node_names.append(output_graph.node_labels)\n",
    "        edge_wts = output_graph.edge_weights\n",
    "        model = GridSearchCV(Ridge(), param_grid, scoring='r2',iid=True)\n",
    "        #lr = LinearRegression()\n",
    "        model.fit(X_train, y_train)\n",
    "        print (model.best_params_)\n",
    "        pred= model.predict(X_test)\n",
    "        print(r2_score(y_test, pred))"
   ]
  },
  {
   "cell_type": "code",
   "execution_count": null,
   "metadata": {},
   "outputs": [],
   "source": [
    "a = np.sort(np.concatenate(nodes).flat)\n",
    "\n",
    "d1 = {k-1:v for k,v in corresp_label_file('fs_default.txt').items() if k-1 in np.unique(a)}\n",
    "\n",
    "d2 = {}\n",
    "for k,v in zip(range(len(np.unique(a))), np.unique(a)):\n",
    "    d2[v] = k\n",
    "\n",
    "for i in range(len(a)):\n",
    "    a[i] = d2[a[i]]"
   ]
  },
  {
   "cell_type": "code",
   "execution_count": null,
   "metadata": {},
   "outputs": [],
   "source": [
    "#plt.hist(a, bins=len(np.unique(a)))"
   ]
  },
  {
   "cell_type": "code",
   "execution_count": null,
   "metadata": {},
   "outputs": [],
   "source": [
    "cm = plt.cm.get_cmap('cool')\n",
    "\n",
    "\n",
    "fig, ax = plt.subplots(figsize=(15,10))\n",
    "counts, bins, patches = ax.hist(a, bins=len(np.unique(a)))\n",
    "for c, p in zip(counts, patches):\n",
    "    plt.setp(p, 'facecolor', cm(c/5))\n",
    "# Set the ticks to be at the edges of the bins.\n",
    "plt.title('Extraversion')\n",
    "\n",
    "plt.xticks(range(len(np.unique(a))),list(d1.values()), rotation=55)\n",
    "plt.show()"
   ]
  },
  {
   "cell_type": "code",
   "execution_count": null,
   "metadata": {},
   "outputs": [],
   "source": []
  }
 ],
 "metadata": {
  "kernelspec": {
   "display_name": "Python 3",
   "language": "python",
   "name": "python3"
  },
  "language_info": {
   "codemirror_mode": {
    "name": "ipython",
    "version": 3
   },
   "file_extension": ".py",
   "mimetype": "text/x-python",
   "name": "python",
   "nbconvert_exporter": "python",
   "pygments_lexer": "ipython3",
   "version": "3.7.7"
  }
 },
 "nbformat": 4,
 "nbformat_minor": 4
}
