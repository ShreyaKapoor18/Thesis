{
 "cells": [
  {
   "cell_type": "code",
   "execution_count": 4,
   "metadata": {},
   "outputs": [],
   "source": [
    "import copy\n",
    "from itertools import product\n",
    "from classification_refined import classify\n",
    "from processing import *\n",
    "from readfiles import *\n",
    "from decision import filter_summary\n",
    "from subgraphclass import make_solver_summary\n",
    "from sklearn.model_selection import train_test_split\n",
    "from scipy.stats import ttest_ind\n",
    "from readfiles import corresp_label_file\n",
    "from graphclass import BrainGraph\n",
    "from paramopt import graph_options"
   ]
  },
  {
   "cell_type": "code",
   "execution_count": 23,
   "metadata": {
    "pycharm": {
     "name": "#%%\n"
    }
   },
   "outputs": [],
   "source": [
    "num = 84  # number of nodes in the graph\n",
    "tri = int(num * (num + 1) * 0.5)  # we want only the upper diagonal parts since everything below diagonal is 0\n",
    "big5 = ['NEOFAC_A', 'NEOFAC_O', 'NEOFAC_C', 'NEOFAC_N', 'NEOFAC_E']\n",
    "edge_names = ['mean_FA', 'mean_strl', 'num_streamlines']\n",
    "labels= ['Agreeableness', 'Openness', 'Conscientiousness', 'Neuroticism',\n",
    "        'Extraversion']\n",
    "mapping = {k: v for k, v in zip(labels, big5)}\n",
    "mat = np.triu_indices(84)\n",
    "mews = '/home/skapoor/Thesis/gmwcs-solver'\n",
    "metrics = ['balanced_accuracy', 'accuracy', 'f1_weighted', 'roc_auc_ovr_weighted']\n",
    "edges = [ 'pearson']\n",
    "# note: right now the matrix whole is not scaled, for computing the fscores and correlation coeff it has to be so.\n",
    "y_train = computed_subjects()\n",
    "X_train = generate_combined_matrix(tri, list(y_train.index))  # need to check indices till here then convert to numpy array\n",
    "\n",
    "#labels = ['Gender']\n",
    "#mapping = {'Gender': 'Gender'}\n",
    "y_test = test_subjects()\n",
    "X_test = generate_test_data(tri, y_test.index)\n",
    "#X_train = pd.concat([X_train, X_test],axis=0)\n",
    "#y_train = pd.concat([y_train, y_test], axis=0)\n",
    "num_strls = X_train.iloc[:, 2 * tri:]\n",
    "\n",
    "mews = '/home/skapoor/Thesis/gmwcs-solver'\n",
    "ip = BrainGraph('t_test', 'num_streamlines', 'const', 'Gender', 10, -0.01, 0)\n",
    "feature_indices = ip.read_from_file(mews, False)\n",
    "#ip.visualize_graph(mews, False, plotting_options=graph_options('red',10, 'yellow', 2, 1.5),\n",
    "#                   figs=(10,6))"
   ]
  },
  {
   "cell_type": "code",
   "execution_count": 24,
   "metadata": {
    "pycharm": {
     "name": "#%%\n"
    }
   },
   "outputs": [],
   "source": [
    "dict_lut = corresp_label_file('fs_default.txt')\n",
    "mapping ={}\n",
    "for edge in ip.edges:\n",
    "    mapping[edge] = (dict_lut[edge[0]+1], dict_lut[edge[1]+1])\n",
    "y_train = y_train['Gender']\n",
    "m = y_train[y_train=='M']\n",
    "f = y_train[y_train=='F']\n",
    "l1 = []\n",
    "for feature, edge in zip(feature_indices, mapping.values()):\n",
    "    val = ttest_ind(num_strls.loc[m.index].iloc[:, feature], num_strls.loc[f.index].iloc[:, feature]).pvalue\n",
    "    val = np.format_float_scientific(val, precision=3, exp_digits=2)\n",
    "    l1.append([edge[0], edge[1], val])"
   ]
  },
  {
   "cell_type": "code",
   "execution_count": 25,
   "metadata": {},
   "outputs": [],
   "source": [
    "l1 = pd.DataFrame(l1, columns=['ROI', 'ROI', 'p value'])\n",
    "l1.to_csv('outputs/csvs/gender10_numstrls.csv')"
   ]
  },
  {
   "cell_type": "code",
   "execution_count": null,
   "metadata": {
    "pycharm": {
     "name": "#%%\n"
    }
   },
   "outputs": [],
   "source": [
    "l1"
   ]
  },
  {
   "cell_type": "code",
   "execution_count": null,
   "metadata": {},
   "outputs": [],
   "source": []
  }
 ],
 "metadata": {
  "kernelspec": {
   "display_name": "Python 3",
   "language": "python",
   "name": "python3"
  },
  "language_info": {
   "codemirror_mode": {
    "name": "ipython",
    "version": 3
   },
   "file_extension": ".py",
   "mimetype": "text/x-python",
   "name": "python",
   "nbconvert_exporter": "python",
   "pygments_lexer": "ipython3",
   "version": "3.7.7"
  }
 },
 "nbformat": 4,
 "nbformat_minor": 1
}
