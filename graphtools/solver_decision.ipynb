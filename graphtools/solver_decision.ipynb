{
 "cells": [
  {
   "cell_type": "code",
   "execution_count": null,
   "outputs": [],
   "source": [
    "import pandas as pd\n",
    "from sklearn.preprocessing import LabelEncoder\n",
    "#Need to know the number of unique values in the column in order to know what name to assign"
   ],
   "metadata": {
    "collapsed": false,
    "pycharm": {
     "name": "#%%\n"
    }
   }
  },
  {
   "cell_type": "code",
   "execution_count": null,
   "outputs": [],
   "source": [
    "# importing one hot encoder from sklearn\n",
    "# There are changes in OneHotEncoder class\n",
    "from sklearn.preprocessing import OneHotEncoder\n",
    "from sklearn.compose import ColumnTransformer\n",
    "import numpy as np\n",
    "from sklearn.tree import DecisionTreeClassifier\n",
    "import matplotlib.pyplot as plt\n",
    "\n",
    "from six import StringIO\n",
    "from IPython.display import Image\n",
    "from sklearn.tree import export_graphviz\n",
    "import pydotplus\n",
    "'''\n",
    "Aim is to design a decision tree classifier based on the fact if the\n",
    "solver produces an output or not\n",
    "'''\n",
    "summary = pd.read_csv('/home/skapoor/Thesis/gmwcs-solver/outputs/solver/summary_100.csv')\n",
    "summary.fillna(0, inplace=True)"
   ],
   "metadata": {
    "collapsed": false,
    "pycharm": {
     "name": "#%%\n"
    }
   }
  },
  {
   "cell_type": "code",
   "execution_count": null,
   "outputs": [],
   "source": [
    "summary.sort_values(['Features_preserved_per', 'Output_graph_posedge'], ascending=[False, False])\n",
    "filtered = summary[(summary.Features_preserved_per>0) & (summary.Output_graph_posedge>0) & (summary.Output_Graph_edges>4) ]\n",
    "#the filtered valuesa are actually what we want\n",
    "# the decision tree will be first run on the basis of the first six columns and the targets are number of edges in binarized"
   ],
   "metadata": {
    "collapsed": false,
    "pycharm": {
     "name": "#%%\n"
    }
   }
  },
  {
   "cell_type": "code",
   "execution_count": null,
   "outputs": [],
   "source": [
    "for target in summary['Target'].unique():\n",
    "\tdf = summary[summary['Target']==target].iloc[:,:6]\n",
    "\ty = summary[summary['Target'] == target].Features_preserved_per\n",
    "\ty = y>0\n",
    "# encode all the categorical variables\n",
    "\tle = LabelEncoder()\n",
    "\tdf.Feature_type = le.fit_transform(df.Feature_type)\n",
    "\tc1 = list(le.classes_)\n",
    "\tdf.Edge = le.fit_transform(df.Edge)\n",
    "\tc3 = list(le.classes_)\n",
    "\tdf.Node_weights = le.fit_transform(df.Node_weights)\n",
    "\tc4 = list(le.classes_)\n",
    "\tcolumnTransformer = ColumnTransformer([('encoder',\n",
    "\t\t\t\t\t\t\t\t\t\t\tOneHotEncoder(),\n",
    "\t\t\t\t\t\t\t\t\t\t\t[0,3,4])],\n",
    "\t\t\t\t\t\t\t\t\t\tremainder='passthrough')\n",
    "\tdf.drop_columns(['Target'])\n",
    "\tdata = np.array(columnTransformer.fit_transform(df), dtype=np.str)\n",
    "\tc1.extend(['Factor'])\n",
    "\tc1.extend(c3)\n",
    "\tc1.extend(c4)\n",
    "\tc1.append('Subtracted_value')\n",
    "\tdata = pd.DataFrame(data, columns=c1)\n",
    "\tdtree=DecisionTreeClassifier()\n",
    "\tdtree.fit(data,y)\n",
    "\n",
    "\tdot_data = StringIO()\n",
    "\texport_graphviz(dtree, out_file=dot_data,\n",
    "\t\t\t\t\tfilled=True, rounded=True,\n",
    "\t\t\t\t\tspecial_characters=True)\n",
    "\tgraph = pydotplus.graph_from_dot_data(dot_data.getvalue())\n",
    "\tImage(graph.create_png())\n",
    "    export_graphviz(dtree, out_file=f'{target}.dot', feature_names=data.columns)"
   ],
   "metadata": {
    "collapsed": false,
    "pycharm": {
     "name": "#%%\n"
    }
   }
  },
  {
   "cell_type": "code",
   "execution_count": 34,
   "metadata": {
    "pycharm": {
     "name": "#%%\n"
    }
   },
   "outputs": [],
   "source": []
  }
 ],
 "metadata": {
  "kernelspec": {
   "display_name": "Python 3",
   "language": "python",
   "name": "python3"
  },
  "language_info": {
   "codemirror_mode": {
    "name": "ipython",
    "version": 3
   },
   "file_extension": ".py",
   "mimetype": "text/x-python",
   "name": "python",
   "nbconvert_exporter": "python",
   "pygments_lexer": "ipython3",
   "version": "3.7.7"
  }
 },
 "nbformat": 4,
 "nbformat_minor": 1
}