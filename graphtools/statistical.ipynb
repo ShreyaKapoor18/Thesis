{
 "cells": [
  {
   "cell_type": "code",
   "execution_count": 12,
   "metadata": {
    "collapsed": true
   },
   "outputs": [],
   "source": [
    "\"\"\"\n",
    "Statistical tests for determining the importance\n",
    "of self loops in terms of accuracy\n",
    "\"\"\"\n",
    "import pandas as pd\n",
    "import numpy as np\n",
    "from scipy.stats import ttest_rel\n",
    "\n",
    "df = pd.read_csv('outputs/base_self_loops.csv')\n",
    "cols = ['Train/Test','Metric', 'Feature', 't_statstic', 'p_value']\n",
    "l1 = []"
   ]
  },
  {
   "cell_type": "code",
   "execution_count": 13,
   "outputs": [],
   "source": [
    "for edge in ['mean_FA', 'mean_strl', 'num_streamlines']:\n",
    "    sliced = df[df['Edge'] == edge]\n",
    "    for type in ['train', 'test']:\n",
    "        for metric in [f'{type}_roc_auc_ovr_weighted', f'{type}_balanced_accuracy']:\n",
    "            s1 = sliced[sliced['Self_loops']== True][metric]\n",
    "            s2 = sliced[sliced['Self_loops']==False][metric]\n",
    "            stat, pval =  ttest_rel(s1,s2)\n",
    "            l1.append([type ,metric.split('_',1)[1], edge, stat, pval])"
   ],
   "metadata": {
    "collapsed": false,
    "pycharm": {
     "name": "#%%\n"
    }
   }
  },
  {
   "cell_type": "code",
   "execution_count": 14,
   "outputs": [],
   "source": [
    "l1 = pd.DataFrame(l1, columns=cols)"
   ],
   "metadata": {
    "collapsed": false,
    "pycharm": {
     "name": "#%%\n"
    }
   }
  },
  {
   "cell_type": "code",
   "execution_count": 15,
   "outputs": [],
   "source": [
    "l1.to_csv('outputs/self_loops_test.csv')"
   ],
   "metadata": {
    "collapsed": false,
    "pycharm": {
     "name": "#%%\n"
    }
   }
  },
  {
   "cell_type": "code",
   "execution_count": null,
   "outputs": [],
   "source": [
    "\n"
   ],
   "metadata": {
    "collapsed": false,
    "pycharm": {
     "name": "#%%\n"
    }
   }
  }
 ],
 "metadata": {
  "kernelspec": {
   "display_name": "Python 3",
   "language": "python",
   "name": "python3"
  },
  "language_info": {
   "codemirror_mode": {
    "name": "ipython",
    "version": 2
   },
   "file_extension": ".py",
   "mimetype": "text/x-python",
   "name": "python",
   "nbconvert_exporter": "python",
   "pygments_lexer": "ipython2",
   "version": "2.7.6"
  }
 },
 "nbformat": 4,
 "nbformat_minor": 0
}