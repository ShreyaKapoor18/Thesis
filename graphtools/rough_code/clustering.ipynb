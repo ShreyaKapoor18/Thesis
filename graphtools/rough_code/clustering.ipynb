{
 "cells": [
  {
   "cell_type": "markdown",
   "metadata": {},
   "source": [
    "## Exercise\n",
    "\n",
    "1. Download the bone marrow / leukemia gene expression ן dataset (leukemia_small.csv) from https://web.stanford.edu/~hastie/CASI_files/DATA/leukemi a.html\n",
    "2. Apply consensus hierarchical clustering and sparse NMF ן clustering to these patient data with k =2 clusters\n",
    "3. Compare both clustering results in terms of cluster purity ן for AML and ALL patient groups. "
   ]
  },
  {
   "cell_type": "markdown",
   "metadata": {},
   "source": [
    "Author: Shreya Kapoor"
   ]
  },
  {
   "cell_type": "code",
   "execution_count": 1,
   "metadata": {},
   "outputs": [],
   "source": [
    "import scipy\n",
    "import numpy as np\n",
    "from scipy.cluster.hierarchy import dendrogram, linkage, cut_tree\n",
    "from matplotlib import pyplot as plt\n",
    "import seaborn as sns\n",
    "import pandas as pd\n",
    "import itertools\n",
    "from sklearn import preprocessing\n",
    "import scipy.spatial.distance as ssd\n",
    "from sklearn.decomposition import NMF\n",
    "import os.path"
   ]
  },
  {
   "cell_type": "code",
   "execution_count": 2,
   "metadata": {},
   "outputs": [],
   "source": [
    "def make_dendogram(D, cells, method, metric): \n",
    "    \"\"\"\n",
    "    This function is used to make a dendogram \n",
    "    Z is the linkage matrix\n",
    "    Dendogram matrix is returned in order to get the sequence of the \n",
    "    labels on the x-axis. \n",
    "    \"\"\"\n",
    "    Z = linkage(D, method= method, metric = metric) \n",
    "    plt.figure(figsize=(10, 6))\n",
    "    ax = plt.subplot()\n",
    "    plt.subplots_adjust(left=0.07, bottom=0.3, right=0.98, top=0.95,\n",
    "    wspace=0, hspace=0)\n",
    "    plt.xlabel('Label Number')\n",
    "    plt.ylabel('Distance')\n",
    "    den = dendrogram(Z, leaf_font_size=10., labels = cells)\n",
    "    plt.savefig('clustering.png')\n",
    "    return Z, den "
   ]
  },
  {
   "cell_type": "code",
   "execution_count": 3,
   "metadata": {},
   "outputs": [],
   "source": [
    "def make_mnh(Z, k, cells, d, df): \n",
    "    \"\"\"\n",
    "    This function is used in order to make a consensus matrix from \n",
    "    the linkage matrix. \n",
    "    M = values are one if labels on index i and j belong to matrix j. \n",
    "    M is a matrix for the whole dataset \n",
    "    d = subsample values \n",
    "    df = whole dataset\n",
    "    cells = columns/sample labels\n",
    "    I = seeing if labels at indexs i and j are existing in your sample.\n",
    "    \"\"\"\n",
    "    clusters = cut_tree(Z, k) #this helps us get the cluster number of each index. \n",
    "    #clusters = cut_tree(Z, n_clusters = 2)\n",
    "    #print(clusters)\n",
    "    dic = { cells[i] :clusters[i][0]  for i in range(len(clusters))}\n",
    "    # we make the dictionary in order to determine for which columns we got the clusters that we did\n",
    "    Mh = np.zeros((df.shape[1], df.shape[1]))\n",
    "    Ih = np.zeros((df.shape[1], df.shape[1]))\n",
    "    for i in range(df.shape[1]): #since we are clustering along cells\n",
    "            for j in range(df.shape[1]): \n",
    "                  if df.columns[i] in d.columns: \n",
    "                        if df.columns[j] in d.columns: \n",
    "                              Ih[i][j] = 1 \n",
    "                   \n",
    "                  if df.columns[i] in dic.keys() and df.columns[j] in dic.keys(): \n",
    "                #if the label at index i and j of the original dataset is in the sample. \n",
    "                          if dic[df.columns[i]] == dic[df.columns[j]]:\n",
    "                    #finding label indexes i and j belong to the same cluster or not\n",
    "                                Mh[i][j] = 1\n",
    "    return Mh, Ih"
   ]
  },
  {
   "cell_type": "code",
   "execution_count": 4,
   "metadata": {},
   "outputs": [],
   "source": [
    "parent_dir = os.path.abspath(os.path.join(os.getcwd(), os.pardir))\n",
    "subject = '128127'\n",
    "df = pd.read_csv(os.path.join(parent_dir, 'preprocessing/result_files', subject,\n",
    "                              'T1w/Diffusion/mean_FA_connectome_5M.csv'), sep = ' ', header = None)"
   ]
  },
  {
   "cell_type": "code",
   "execution_count": 5,
   "metadata": {},
   "outputs": [],
   "source": [
    "#df = df.reindex(sorted(df.columns), axis=1)"
   ]
  },
  {
   "cell_type": "code",
   "execution_count": 6,
   "metadata": {},
   "outputs": [
    {
     "data": {
      "text/plain": "         0         1         2         3         4         5         6   \\\n0  0.382428  0.508705  0.520047  0.506558  0.460157  0.476947  0.458939   \n1  0.000000  0.397474  0.492812  0.522955  0.490343  0.459441  0.487525   \n2  0.000000  0.000000  0.435609  0.538244  0.456008  0.446091  0.472393   \n3  0.000000  0.000000  0.000000  0.359615  0.460942  0.458485  0.495383   \n4  0.000000  0.000000  0.000000  0.000000  0.287714  0.377651  0.444094   \n\n         7         8         9   ...        74        75        76        77  \\\n0  0.474314  0.502110  0.499925  ...  0.528983  0.544111  0.566624  0.523124   \n1  0.475179  0.510799  0.521135  ...  0.528438  0.537023  0.552945  0.523075   \n2  0.472835  0.513065  0.481578  ...  0.523826  0.558282  0.547823  0.517163   \n3  0.484284  0.530128  0.412617  ...  0.536058  0.602758  0.632227  0.586625   \n4  0.433044  0.410518  0.457865  ...  0.470281  0.508604  0.557631  0.529202   \n\n         78        79        80       81        82        83  \n0  0.519825  0.000000  0.000000  0.00000  0.000000  0.568578  \n1  0.529175  0.512112  0.000000  0.60496  0.487683  0.501672  \n2  0.542383  0.506494  0.000000  0.00000  0.519554  0.528523  \n3  0.581310  0.000000  0.561188  0.58771  0.598739  0.553510  \n4  0.515425  0.508752  0.000000  0.00000  0.516557  0.508123  \n\n[5 rows x 84 columns]",
      "text/html": "<div>\n<style scoped>\n    .dataframe tbody tr th:only-of-type {\n        vertical-align: middle;\n    }\n\n    .dataframe tbody tr th {\n        vertical-align: top;\n    }\n\n    .dataframe thead th {\n        text-align: right;\n    }\n</style>\n<table border=\"1\" class=\"dataframe\">\n  <thead>\n    <tr style=\"text-align: right;\">\n      <th></th>\n      <th>0</th>\n      <th>1</th>\n      <th>2</th>\n      <th>3</th>\n      <th>4</th>\n      <th>5</th>\n      <th>6</th>\n      <th>7</th>\n      <th>8</th>\n      <th>9</th>\n      <th>...</th>\n      <th>74</th>\n      <th>75</th>\n      <th>76</th>\n      <th>77</th>\n      <th>78</th>\n      <th>79</th>\n      <th>80</th>\n      <th>81</th>\n      <th>82</th>\n      <th>83</th>\n    </tr>\n  </thead>\n  <tbody>\n    <tr>\n      <th>0</th>\n      <td>0.382428</td>\n      <td>0.508705</td>\n      <td>0.520047</td>\n      <td>0.506558</td>\n      <td>0.460157</td>\n      <td>0.476947</td>\n      <td>0.458939</td>\n      <td>0.474314</td>\n      <td>0.502110</td>\n      <td>0.499925</td>\n      <td>...</td>\n      <td>0.528983</td>\n      <td>0.544111</td>\n      <td>0.566624</td>\n      <td>0.523124</td>\n      <td>0.519825</td>\n      <td>0.000000</td>\n      <td>0.000000</td>\n      <td>0.00000</td>\n      <td>0.000000</td>\n      <td>0.568578</td>\n    </tr>\n    <tr>\n      <th>1</th>\n      <td>0.000000</td>\n      <td>0.397474</td>\n      <td>0.492812</td>\n      <td>0.522955</td>\n      <td>0.490343</td>\n      <td>0.459441</td>\n      <td>0.487525</td>\n      <td>0.475179</td>\n      <td>0.510799</td>\n      <td>0.521135</td>\n      <td>...</td>\n      <td>0.528438</td>\n      <td>0.537023</td>\n      <td>0.552945</td>\n      <td>0.523075</td>\n      <td>0.529175</td>\n      <td>0.512112</td>\n      <td>0.000000</td>\n      <td>0.60496</td>\n      <td>0.487683</td>\n      <td>0.501672</td>\n    </tr>\n    <tr>\n      <th>2</th>\n      <td>0.000000</td>\n      <td>0.000000</td>\n      <td>0.435609</td>\n      <td>0.538244</td>\n      <td>0.456008</td>\n      <td>0.446091</td>\n      <td>0.472393</td>\n      <td>0.472835</td>\n      <td>0.513065</td>\n      <td>0.481578</td>\n      <td>...</td>\n      <td>0.523826</td>\n      <td>0.558282</td>\n      <td>0.547823</td>\n      <td>0.517163</td>\n      <td>0.542383</td>\n      <td>0.506494</td>\n      <td>0.000000</td>\n      <td>0.00000</td>\n      <td>0.519554</td>\n      <td>0.528523</td>\n    </tr>\n    <tr>\n      <th>3</th>\n      <td>0.000000</td>\n      <td>0.000000</td>\n      <td>0.000000</td>\n      <td>0.359615</td>\n      <td>0.460942</td>\n      <td>0.458485</td>\n      <td>0.495383</td>\n      <td>0.484284</td>\n      <td>0.530128</td>\n      <td>0.412617</td>\n      <td>...</td>\n      <td>0.536058</td>\n      <td>0.602758</td>\n      <td>0.632227</td>\n      <td>0.586625</td>\n      <td>0.581310</td>\n      <td>0.000000</td>\n      <td>0.561188</td>\n      <td>0.58771</td>\n      <td>0.598739</td>\n      <td>0.553510</td>\n    </tr>\n    <tr>\n      <th>4</th>\n      <td>0.000000</td>\n      <td>0.000000</td>\n      <td>0.000000</td>\n      <td>0.000000</td>\n      <td>0.287714</td>\n      <td>0.377651</td>\n      <td>0.444094</td>\n      <td>0.433044</td>\n      <td>0.410518</td>\n      <td>0.457865</td>\n      <td>...</td>\n      <td>0.470281</td>\n      <td>0.508604</td>\n      <td>0.557631</td>\n      <td>0.529202</td>\n      <td>0.515425</td>\n      <td>0.508752</td>\n      <td>0.000000</td>\n      <td>0.00000</td>\n      <td>0.516557</td>\n      <td>0.508123</td>\n    </tr>\n  </tbody>\n</table>\n<p>5 rows × 84 columns</p>\n</div>"
     },
     "execution_count": 6,
     "metadata": {},
     "output_type": "execute_result"
    }
   ],
   "source": [
    "df.head()"
   ]
  },
  {
   "cell_type": "code",
   "execution_count": 7,
   "metadata": {},
   "outputs": [],
   "source": [
    "# rows and columns are both the indexes of the graph"
   ]
  },
  {
   "cell_type": "code",
   "execution_count": 8,
   "metadata": {},
   "outputs": [
    {
     "data": {
      "text/plain": "<matplotlib.axes._subplots.AxesSubplot at 0x7f4654955050>"
     },
     "execution_count": 8,
     "metadata": {},
     "output_type": "execute_result"
    },
    {
     "data": {
      "text/plain": "<Figure size 432x288 with 2 Axes>",
      "image/png": "[encoded data removed]"
     },
     "metadata": {
      "needs_background": "light"
     },
     "output_type": "display_data"
    }
   ],
   "source": [
    "sns.heatmap(df , cmap = ['green', 'red'])\n",
    "#heatmap is N genes x M samples"
   ]
  },
  {
   "cell_type": "code",
   "execution_count": 9,
   "metadata": {},
   "outputs": [
    {
     "data": {
      "text/plain": "<Figure size 720x432 with 1 Axes>",
      "image/png": "[encoded data removed]"
     },
     "metadata": {
      "needs_background": "light"
     },
     "output_type": "display_data"
    }
   ],
   "source": [
    "cells = list(df.columns.values) \n",
    "    #red is higher value and green is lower value \n",
    "D = df.values\n",
    "cells = list(df.columns.values)\n",
    "if len(cells) != len(D):\n",
    "        #scipy clusters the rows and not the columns\n",
    "        #print ('transpose')\n",
    "        D = np.transpose(D)\n",
    "Z,den = make_dendogram(D, cells, 'ward', 'euclidean')"
   ]
  },
  {
   "cell_type": "markdown",
   "metadata": {},
   "source": [
    "Main loop for getting the consensus matrix M"
   ]
  },
  {
   "cell_type": "code",
   "execution_count": 10,
   "metadata": {},
   "outputs": [],
   "source": [
    "M = np.zeros((df.shape[1], df.shape[1]))\n",
    "I = np.zeros((df.shape[1], df.shape[1]))\n",
    "H = 1000 #Number of subsamples that we want!\n",
    "for h in range(H): \n",
    "    d = df.sample(n = int(0.8*df.shape[1]) , axis = 1, random_state = h) #subsampling the columns\n",
    "    cells = list(d.columns.values) \n",
    "    #red is higher value and green is lower value \n",
    "    D = d.values\n",
    "    if len(cells) != len(D):\n",
    "        #print ('transpose')\n",
    "        D = np.transpose(D)\n",
    "\n",
    "    Z = linkage(D, method='ward', metric='euclidean')\n",
    "    #make the Mh matrix\n",
    "    Mh, Ih = make_mnh(Z, 2, cells, d, df)\n",
    "                        \n",
    "    M += Mh\n",
    "    I += Ih          \n",
    "            \n",
    "M = M/I\n",
    "    \n"
   ]
  },
  {
   "cell_type": "markdown",
   "metadata": {},
   "source": [
    "Observation\n",
    "<br> ן\n",
    "• 𝑀 is symmetric <br>\n",
    "• 𝑀 has values in [0,1] where 1 means perfect consensus <br> \n",
    "• 𝑀 may be viewed as a similarity measure between items <br> \n",
    "• Reordering rows and columns in 𝑀 according to true clustering yields a block-diagonal <br> \n",
    "matrix"
   ]
  },
  {
   "cell_type": "code",
   "execution_count": 11,
   "metadata": {},
   "outputs": [
    {
     "data": {
      "text/plain": "array([[ True,  True,  True, ...,  True,  True,  True],\n       [ True,  True,  True, ...,  True,  True,  True],\n       [ True,  True,  True, ...,  True,  True,  True],\n       ...,\n       [ True,  True,  True, ...,  True,  True,  True],\n       [ True,  True,  True, ...,  True,  True,  True],\n       [ True,  True,  True, ...,  True,  True,  True]])"
     },
     "execution_count": 11,
     "metadata": {},
     "output_type": "execute_result"
    }
   ],
   "source": [
    "M.transpose() == M"
   ]
  },
  {
   "cell_type": "code",
   "execution_count": 12,
   "metadata": {
    "scrolled": true
   },
   "outputs": [
    {
     "data": {
      "text/plain": "<Figure size 432x288 with 1 Axes>",
      "image/png": "[encoded data removed]"
     },
     "metadata": {
      "needs_background": "light"
     },
     "output_type": "display_data"
    }
   ],
   "source": [
    "plt.imshow(M, cmap = 'gray')\n",
    "plt.savefig('consensus.png')"
   ]
  },
  {
   "cell_type": "code",
   "execution_count": 13,
   "metadata": {},
   "outputs": [
    {
     "ename": "AttributeError",
     "evalue": "module 'matplotlib.pyplot' has no attribute 'savfig'",
     "output_type": "error",
     "traceback": [
      "\u001B[0;31m---------------------------------------------------------------------------\u001B[0m",
      "\u001B[0;31mAttributeError\u001B[0m                            Traceback (most recent call last)",
      "\u001B[0;32m<ipython-input-13-b2d5a1cdbb92>\u001B[0m in \u001B[0;36m<module>\u001B[0;34m\u001B[0m\n\u001B[1;32m      1\u001B[0m \u001B[0mplt\u001B[0m\u001B[0;34m.\u001B[0m\u001B[0mimshow\u001B[0m\u001B[0;34m(\u001B[0m\u001B[0;36m1\u001B[0m\u001B[0;34m-\u001B[0m\u001B[0mM\u001B[0m\u001B[0;34m,\u001B[0m \u001B[0mcmap\u001B[0m \u001B[0;34m=\u001B[0m \u001B[0;34m'gray'\u001B[0m\u001B[0;34m)\u001B[0m\u001B[0;34m\u001B[0m\u001B[0;34m\u001B[0m\u001B[0m\n\u001B[0;32m----> 2\u001B[0;31m \u001B[0mplt\u001B[0m\u001B[0;34m.\u001B[0m\u001B[0msavfig\u001B[0m\u001B[0;34m(\u001B[0m\u001B[0;34m'1-Mconsesnus.png'\u001B[0m\u001B[0;34m)\u001B[0m\u001B[0;34m\u001B[0m\u001B[0;34m\u001B[0m\u001B[0m\n\u001B[0m\u001B[1;32m      3\u001B[0m \u001B[0;34m\u001B[0m\u001B[0m\n",
      "\u001B[0;31mAttributeError\u001B[0m: module 'matplotlib.pyplot' has no attribute 'savfig'"
     ]
    },
    {
     "data": {
      "text/plain": "<Figure size 432x288 with 1 Axes>",
      "image/png": "[encoded data removed]"
     },
     "metadata": {
      "needs_background": "light"
     },
     "output_type": "display_data"
    }
   ],
   "source": [
    "plt.imshow(1-M, cmap = 'gray')\n",
    "plt.savfig('1-Mconsesnus.png')"
   ]
  },
  {
   "cell_type": "markdown",
   "metadata": {},
   "source": [
    "#Final clustering can be achieved using 1-M as a distance matrix!"
   ]
  },
  {
   "cell_type": "code",
   "execution_count": null,
   "metadata": {},
   "outputs": [],
   "source": [
    "\n",
    "# convert the redundant n*n square matrix form into a condensed nC2 array\n",
    "distArray = ssd.squareform(1-M) # "
   ]
  },
  {
   "cell_type": "code",
   "execution_count": null,
   "metadata": {},
   "outputs": [],
   "source": [
    "cells = df.columns.values"
   ]
  },
  {
   "cell_type": "code",
   "execution_count": null,
   "metadata": {
    "scrolled": true
   },
   "outputs": [],
   "source": [
    "Z, den = make_dendogram(distArray, cells, 'ward', 'euclidean')"
   ]
  },
  {
   "cell_type": "code",
   "execution_count": null,
   "metadata": {},
   "outputs": [],
   "source": [
    "predicted_clusters = {den['ivl'][i]: cut_tree(Z,2)[i][0] for i in range(len(cut_tree(Z,2)))}"
   ]
  },
  {
   "cell_type": "code",
   "execution_count": null,
   "metadata": {},
   "outputs": [],
   "source": [
    "#need to determine the ordering of the clusters!"
   ]
  },
  {
   "cell_type": "markdown",
   "metadata": {},
   "source": [
    "## Purity:\n",
    "Purity is a measure of the extent to which clusters contain a single class. Its calculation can be thought of as follows: For each cluster, count the number of data points from the most common class in said cluster. Now take the sum over all clusters and divide by the total number of data points. \n",
    "\n",
    "This measure doesn't penalize having many clusters. So for example, a purity score of 1 is possible by putting each data point in its own cluster. Also purity doesn't work well for imbalanced data: if a size 1000 dataset consists of two classes, one class contains 999 points and the other has only 1 point. No matter how bad a clustering algorithm performs, it will always give a very high purity value.\n",
    "    "
   ]
  },
  {
   "cell_type": "code",
   "execution_count": null,
   "metadata": {},
   "outputs": [],
   "source": [
    "def cluster_purity(mapping):\n",
    "    classes_cluster_0 = [x  for x in mapping.keys() if mapping[x] == 0]\n",
    "\n",
    "    classes_cluster_1 = [x  for x in mapping.keys() if mapping[x] == 1]\n",
    "\n",
    "    # most common classes in the clusters:  for cluster 0 it is ALL, for cluster 1 its AML\n",
    "    count_0 = sum(['ALL' in x for x in classes_cluster_0])\n",
    "    count_1 = sum(['AML' in x for x in classes_cluster_1])\n",
    "    #cluster purity for first cluster\n",
    "    print('cluster purity for first cluster (ALL)', count_0/ len(classes_cluster_0)) \n",
    "    print('cluster purity for second cluster (AML)', count_1/ len(classes_cluster_1))\n",
    "    purity = (count_0 + count_1)/len(df.columns)\n",
    "    print(\"net purity: {:0.2f}\".format(purity))\n",
    "    #return purity "
   ]
  },
  {
   "cell_type": "code",
   "execution_count": null,
   "metadata": {},
   "outputs": [],
   "source": [
    "cluster_purity(predicted_clusters)"
   ]
  },
  {
   "cell_type": "markdown",
   "metadata": {},
   "source": [
    "## Rand Index \n"
   ]
  },
  {
   "cell_type": "code",
   "execution_count": null,
   "metadata": {},
   "outputs": [],
   "source": [
    "def rand_index(labels_A,labels_B):\n",
    "    \"\"\"\n",
    "    labels_A and labels_B are two lists of item labels partitioning a set\n",
    "    of items. The types of the labels are arbitrary and do not have to be\n",
    "    consistent. The Rand index calculates the fraction of item pairs that\n",
    "    are consistently labeled in both partitions\n",
    "    >>> rand_index([1,1,2,2],['a','b','a','b'])\n",
    "    0.3333333333333333\n",
    "    >>> rand_index([int,int,int,float,float],[dict,set,set,set,set])\n",
    "    0.4\n",
    "    >>> rand_index([1,2,2,3,3,3,4,4,4,4],[4,3,3,2,2,2,1,1,1,1])\n",
    "    1.0\n",
    "    \"\"\"\n",
    "    assert len(labels_A) == len(labels_B)\n",
    "    n = len(labels_A)\n",
    "    total = n*(n-1)/2 # total number of pairs\n",
    "    consistent = 0\n",
    "    for i,j in itertools.combinations(range(n),2):\n",
    "        # Check for consistent assignment\n",
    "        if (labels_A[i]==labels_A[j]) == (labels_B[i]==labels_B[j]):\n",
    "            consistent += 1\n",
    "    print (\"random index: {:.02f}\".format(consistent/total))"
   ]
  },
  {
   "cell_type": "code",
   "execution_count": null,
   "metadata": {},
   "outputs": [],
   "source": [
    "sorted_predictions = [ predicted_clusters[x] for x in df.columns]\n",
    "actual = [0 if 'ALL' in x else 1 for x in df.columns]"
   ]
  },
  {
   "cell_type": "code",
   "execution_count": null,
   "metadata": {},
   "outputs": [],
   "source": [
    "rand_index(sorted_predictions, actual)"
   ]
  },
  {
   "cell_type": "code",
   "execution_count": null,
   "metadata": {},
   "outputs": [],
   "source": [
    "x = df.values #returns a numpy array\n",
    "min_max_scaler = preprocessing.MinMaxScaler()\n",
    "x_scaled = min_max_scaler.fit_transform(x)\n",
    "df = pd.DataFrame(x_scaled)\n"
   ]
  },
  {
   "cell_type": "code",
   "execution_count": null,
   "metadata": {},
   "outputs": [],
   "source": [
    "model = NMF(n_components=2, init='random', random_state=42)\n",
    "W = model.fit_transform(df)\n",
    "H = model.components_\n"
   ]
  },
  {
   "cell_type": "code",
   "execution_count": null,
   "metadata": {},
   "outputs": [],
   "source": [
    "model.get_params()"
   ]
  },
  {
   "cell_type": "markdown",
   "metadata": {},
   "source": [
    "l1_ratio == 0 implies that the l2 value is 1 and the penalty is only the Frobenious norm that introduces sparsity."
   ]
  },
  {
   "cell_type": "code",
   "execution_count": null,
   "metadata": {},
   "outputs": [],
   "source": [
    "fig, ax = plt.subplots(1,3, gridspec_kw={'width_ratios':[2,0.5,1]}, figsize = (10,10))\n",
    "ax = ax.ravel() \n",
    "ax[2].set_aspect(10)\n",
    "ax[0] = sns.heatmap(df, cmap = ['green', 'red'], ax = ax[0], cbar = False)\n",
    "ax[1] = sns.heatmap(W, cmap = ['green', 'red'], ax = ax[1], cbar = False)\n",
    "ax[2] = sns.heatmap(H, cmap = ['green', 'red'], ax= ax[2], cbar = False)\n",
    "plt.show()"
   ]
  },
  {
   "cell_type": "markdown",
   "metadata": {},
   "source": [
    " The samples need to be reordered in order to better show the class distributions"
   ]
  },
  {
   "cell_type": "code",
   "execution_count": null,
   "metadata": {},
   "outputs": [],
   "source": [
    "#better representation if we sort the columns according to column name!"
   ]
  },
  {
   "cell_type": "code",
   "execution_count": null,
   "metadata": {},
   "outputs": [],
   "source": [
    "plt.plot(range(72), H[0])\n",
    "plt.plot(range(72), H[1])\n",
    "plt.xlabel('samples')\n",
    "\n",
    "plt.ylabel('meta gene expression profile!')\n"
   ]
  },
  {
   "cell_type": "markdown",
   "metadata": {},
   "source": [
    "The relative amplitudes of the two metagenes determine two classes of samples, class 1 and class 2. "
   ]
  },
  {
   "cell_type": "code",
   "execution_count": null,
   "metadata": {},
   "outputs": [],
   "source": [
    "plt.plot(range(72), H[1]/H[0])\n",
    "plt.plot(range(72), [min(H[1]/H[0]) for x in H[1]/H[0]])\n",
    "plt.plot(range(72), [max(H[1]/H[0]) for x in H[1]/H[0]])\n",
    "plt.plot(range(72), [sum(H[1]/H[0])/72 for x in H[1]/H[0]])\n",
    "plt.xlabel('samples')\n",
    "plt.ylabel('meta gene expression profile!')\n",
    "#Higher means class 1, lowe means class 0 \n"
   ]
  },
  {
   "cell_type": "code",
   "execution_count": null,
   "metadata": {},
   "outputs": [],
   "source": [
    "matrix = [x/y if y!=0 else x for x,y in zip(H[1],H[0])]\n",
    "avg_expr = sum(matrix)/72"
   ]
  },
  {
   "cell_type": "code",
   "execution_count": null,
   "metadata": {},
   "outputs": [],
   "source": [
    "classes_nmf = np.array([1 if x>avg_expr else 0 for x in matrix])"
   ]
  },
  {
   "cell_type": "markdown",
   "metadata": {},
   "source": [
    "Implies 47 are ALL and rest are AML so till index 47 is class 1 <br> \n",
    "and later is class 2 i.e. AML"
   ]
  },
  {
   "cell_type": "markdown",
   "metadata": {},
   "source": [
    "From the original paper: https://www.pnas.org/content/101/12/4164 <br>  \n",
    "    For each run, the sample assignment can be defined by a connectivity matrix C of size M × M, with entry cij = 1 if samples i and j belong to the same cluster, and cij = 0 if they belong to different clusters. We can then compute the consensus matrix, C̄, defined as the average connectivity matrix over many clustering runs. \n",
    "    "
   ]
  },
  {
   "cell_type": "code",
   "execution_count": null,
   "metadata": {},
   "outputs": [],
   "source": [
    "C = np.zeros((len(df.columns), len(df.columns)))"
   ]
  },
  {
   "cell_type": "code",
   "execution_count": null,
   "metadata": {},
   "outputs": [],
   "source": [
    "for i in range(len(classes_nmf)): \n",
    "    for j in range(len(classes_nmf)):\n",
    "        if classes_nmf[i] == classes_nmf[j]: \n",
    "             C[i][j] = 1"
   ]
  },
  {
   "cell_type": "code",
   "execution_count": null,
   "metadata": {},
   "outputs": [],
   "source": [
    "plt.imshow(C)"
   ]
  },
  {
   "cell_type": "code",
   "execution_count": null,
   "metadata": {},
   "outputs": [],
   "source": [
    "# This whole process can be done 50 times to get K=2 avg clustering!"
   ]
  },
  {
   "cell_type": "code",
   "execution_count": null,
   "metadata": {},
   "outputs": [],
   "source": [
    "def iterate_nmf(df, iterations): \n",
    "    C_total = np.zeros((len(df.columns), len(df.columns)))\n",
    "    for i in range(iterations): \n",
    "        model = NMF(n_components=2, init='random', random_state=i)\n",
    "        W = model.fit_transform(df)\n",
    "        H = model.components_\n",
    "        matrix = [x/y if y!=0 else x for x,y in zip(H[1],H[0])] #relative expression\n",
    "        avg_expr = sum(matrix)/72\n",
    "        classes_nmf = np.array([1 if x>avg_expr else 0 for x in matrix])\n",
    "        C = np.zeros((len(df.columns), len(df.columns)))\n",
    "        for i in range(len(classes_nmf)): \n",
    "            for j in range(len(classes_nmf)):\n",
    "                    if classes_nmf[i] == classes_nmf[j]: \n",
    "                         C[i][j] = 1\n",
    "        C_total += C\n",
    "    return C_total/iterations\n"
   ]
  },
  {
   "cell_type": "code",
   "execution_count": null,
   "metadata": {},
   "outputs": [],
   "source": [
    "C_total = iterate_nmf(df,50)"
   ]
  },
  {
   "cell_type": "code",
   "execution_count": null,
   "metadata": {},
   "outputs": [],
   "source": [
    "plt.imshow(C_total, cmap = 'gray')"
   ]
  },
  {
   "cell_type": "code",
   "execution_count": null,
   "metadata": {},
   "outputs": [],
   "source": [
    "classes_nmf"
   ]
  },
  {
   "cell_type": "code",
   "execution_count": null,
   "metadata": {},
   "outputs": [],
   "source": [
    "mapping = { y :x for x,y in zip(classes_nmf, cells)}"
   ]
  },
  {
   "cell_type": "code",
   "execution_count": null,
   "metadata": {},
   "outputs": [],
   "source": [
    "cluster_purity(mapping)"
   ]
  },
  {
   "cell_type": "code",
   "execution_count": null,
   "metadata": {},
   "outputs": [],
   "source": []
  }
 ],
 "metadata": {
  "kernelspec": {
   "display_name": "Python 3",
   "language": "python",
   "name": "python3"
  },
  "language_info": {
   "codemirror_mode": {
    "name": "ipython",
    "version": 3
   },
   "file_extension": ".py",
   "mimetype": "text/x-python",
   "name": "python",
   "nbconvert_exporter": "python",
   "pygments_lexer": "ipython3",
   "version": "3.7.5"
  }
 },
 "nbformat": 4,
 "nbformat_minor": 2
}